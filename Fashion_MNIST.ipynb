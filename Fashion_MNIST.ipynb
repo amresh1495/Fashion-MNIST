{
 "cells": [
  {
   "cell_type": "code",
   "execution_count": 1,
   "metadata": {
    "colab": {},
    "colab_type": "code",
    "id": "74i3xzXvqE3L"
   },
   "outputs": [],
   "source": [
    "import tensorflow as tf\n",
    "from tensorflow import keras\n",
    "import numpy as np\n",
    "import matplotlib.pyplot as plt"
   ]
  },
  {
   "cell_type": "code",
   "execution_count": 2,
   "metadata": {
    "colab": {},
    "colab_type": "code",
    "id": "vCOl9mJnqF2R"
   },
   "outputs": [],
   "source": [
    "# getting the dataset \n",
    "\n",
    "fashion_mnist = keras.datasets.fashion_mnist"
   ]
  },
  {
   "cell_type": "code",
   "execution_count": 3,
   "metadata": {
    "colab": {
     "base_uri": "https://localhost:8080/",
     "height": 153
    },
    "colab_type": "code",
    "id": "GJ7jmGbNqMuR",
    "outputId": "7962a0c3-16fa-49bf-f905-ae65315dd3d3"
   },
   "outputs": [],
   "source": [
    "# splitting into train and test data \n",
    "\n",
    "(train_images, train_labels), (test_images, test_labels) = fashion_mnist.load_data()"
   ]
  },
  {
   "cell_type": "code",
   "execution_count": 4,
   "metadata": {
    "colab": {},
    "colab_type": "code",
    "id": "WPyQJEY1qOkg"
   },
   "outputs": [],
   "source": [
    "# labelling the different features of data\n",
    "\n",
    "class_names = ['T-shirt/top', 'Trouser', 'Pullover', 'Dress', 'Coat',\n",
    "               'Sandal', 'Shirt', 'Sneaker', 'Bag', 'Ankle boot']"
   ]
  },
  {
   "cell_type": "code",
   "execution_count": 5,
   "metadata": {
    "colab": {},
    "colab_type": "code",
    "id": "ytDCZpf7qQ8j"
   },
   "outputs": [],
   "source": [
    "# rescaling the data\n",
    "\n",
    "train_images = train_images / 255.0\n",
    "test_images = test_images / 255.0"
   ]
  },
  {
   "cell_type": "code",
   "execution_count": 6,
   "metadata": {
    "colab": {
     "base_uri": "https://localhost:8080/",
     "height": 105
    },
    "colab_type": "code",
    "id": "XgimkrOZqUr5",
    "outputId": "9bd4359d-6ce7-447f-bbc5-3de915e13493"
   },
   "outputs": [
    {
     "name": "stderr",
     "output_type": "stream",
     "text": [
      "WARNING: Logging before flag parsing goes to stderr.\n",
      "W0807 15:09:48.573188 140086350501696 deprecation.py:506] From /home/amresh/.virtualenvs/HeartDisease/lib/python3.7/site-packages/tensorflow/python/ops/init_ops.py:1251: calling VarianceScaling.__init__ (from tensorflow.python.ops.init_ops) with dtype is deprecated and will be removed in a future version.\n",
      "Instructions for updating:\n",
      "Call initializer instance with the dtype argument instead of passing it to the constructor\n"
     ]
    }
   ],
   "source": [
    "# building the model \n",
    "\n",
    "model = keras.Sequential([\n",
    "    keras.layers.Flatten(input_shape=(28, 28)),\n",
    "    keras.layers.Dense(128, activation=tf.nn.relu),\n",
    "    keras.layers.Dense(10, activation=tf.nn.softmax)\n",
    "])"
   ]
  },
  {
   "cell_type": "code",
   "execution_count": 9,
   "metadata": {
    "colab": {},
    "colab_type": "code",
    "id": "H_dBe7FWqX5T"
   },
   "outputs": [],
   "source": [
    "# compiling the model \n",
    "\n",
    "model.compile(optimizer='adam',\n",
    "              loss='sparse_categorical_crossentropy',\n",
    "              metrics=['accuracy'])"
   ]
  },
  {
   "cell_type": "code",
   "execution_count": 10,
   "metadata": {
    "colab": {
     "base_uri": "https://localhost:8080/",
     "height": 1000
    },
    "colab_type": "code",
    "id": "GaYXzxCoqssu",
    "outputId": "cbc459da-7892-4469-a687-f9ccf504298f"
   },
   "outputs": [
    {
     "name": "stdout",
     "output_type": "stream",
     "text": [
      "Epoch 1/100\n",
      "60000/60000 [==============================] - 5s 84us/sample - loss: 0.5000 - acc: 0.8224\n",
      "Epoch 2/100\n",
      "60000/60000 [==============================] - 5s 76us/sample - loss: 0.3733 - acc: 0.8651\n",
      "Epoch 3/100\n",
      "60000/60000 [==============================] - 5s 79us/sample - loss: 0.3359 - acc: 0.8772\n",
      "Epoch 4/100\n",
      "60000/60000 [==============================] - 5s 77us/sample - loss: 0.3122 - acc: 0.8851\n",
      "Epoch 5/100\n",
      "60000/60000 [==============================] - 5s 77us/sample - loss: 0.2930 - acc: 0.8910\n",
      "Epoch 6/100\n",
      "60000/60000 [==============================] - 5s 91us/sample - loss: 0.2778 - acc: 0.8961\n",
      "Epoch 7/100\n",
      "60000/60000 [==============================] - 5s 76us/sample - loss: 0.2683 - acc: 0.9006\n",
      "Epoch 8/100\n",
      "60000/60000 [==============================] - 5s 83us/sample - loss: 0.2547 - acc: 0.9050\n",
      "Epoch 9/100\n",
      "60000/60000 [==============================] - 6s 97us/sample - loss: 0.2469 - acc: 0.9080\n",
      "Epoch 10/100\n",
      "60000/60000 [==============================] - 5s 77us/sample - loss: 0.2379 - acc: 0.9124\n",
      "Epoch 11/100\n",
      "60000/60000 [==============================] - 5s 77us/sample - loss: 0.2287 - acc: 0.9145\n",
      "Epoch 12/100\n",
      "60000/60000 [==============================] - 5s 78us/sample - loss: 0.2217 - acc: 0.9169\n",
      "Epoch 13/100\n",
      "60000/60000 [==============================] - 5s 78us/sample - loss: 0.2138 - acc: 0.9202\n",
      "Epoch 14/100\n",
      "60000/60000 [==============================] - 5s 79us/sample - loss: 0.2095 - acc: 0.9208\n",
      "Epoch 15/100\n",
      "60000/60000 [==============================] - 5s 79us/sample - loss: 0.2053 - acc: 0.9220\n",
      "Epoch 16/100\n",
      "60000/60000 [==============================] - 5s 80us/sample - loss: 0.1976 - acc: 0.9259\n",
      "Epoch 17/100\n",
      "60000/60000 [==============================] - 5s 79us/sample - loss: 0.1925 - acc: 0.9275\n",
      "Epoch 18/100\n",
      "60000/60000 [==============================] - 5s 79us/sample - loss: 0.1872 - acc: 0.9291\n",
      "Epoch 19/100\n",
      "60000/60000 [==============================] - 5s 79us/sample - loss: 0.1832 - acc: 0.9305\n",
      "Epoch 20/100\n",
      "60000/60000 [==============================] - 5s 80us/sample - loss: 0.1765 - acc: 0.9338\n",
      "Epoch 21/100\n",
      "60000/60000 [==============================] - 5s 80us/sample - loss: 0.1732 - acc: 0.9339\n",
      "Epoch 22/100\n",
      "60000/60000 [==============================] - 6s 97us/sample - loss: 0.1710 - acc: 0.9361\n",
      "Epoch 23/100\n",
      "60000/60000 [==============================] - 5s 80us/sample - loss: 0.1659 - acc: 0.9380\n",
      "Epoch 24/100\n",
      "60000/60000 [==============================] - 5s 81us/sample - loss: 0.1630 - acc: 0.9387\n",
      "Epoch 25/100\n",
      "60000/60000 [==============================] - 5s 85us/sample - loss: 0.1582 - acc: 0.9402\n",
      "Epoch 26/100\n",
      "60000/60000 [==============================] - 5s 78us/sample - loss: 0.1542 - acc: 0.9416\n",
      "Epoch 27/100\n",
      "60000/60000 [==============================] - 5s 82us/sample - loss: 0.1517 - acc: 0.9423\n",
      "Epoch 28/100\n",
      "60000/60000 [==============================] - 5s 87us/sample - loss: 0.1503 - acc: 0.9425\n",
      "Epoch 29/100\n",
      "60000/60000 [==============================] - 4s 73us/sample - loss: 0.1429 - acc: 0.9464\n",
      "Epoch 30/100\n",
      "60000/60000 [==============================] - 5s 83us/sample - loss: 0.1410 - acc: 0.9461\n",
      "Epoch 31/100\n",
      "60000/60000 [==============================] - 4s 59us/sample - loss: 0.1365 - acc: 0.9490\n",
      "Epoch 32/100\n",
      "60000/60000 [==============================] - 3s 58us/sample - loss: 0.1339 - acc: 0.9485\n",
      "Epoch 33/100\n",
      "60000/60000 [==============================] - 3s 58us/sample - loss: 0.1317 - acc: 0.9494\n",
      "Epoch 34/100\n",
      "60000/60000 [==============================] - 3s 58us/sample - loss: 0.1297 - acc: 0.9501\n",
      "Epoch 35/100\n",
      "60000/60000 [==============================] - 4s 73us/sample - loss: 0.1273 - acc: 0.9522\n",
      "Epoch 36/100\n",
      "60000/60000 [==============================] - 4s 59us/sample - loss: 0.1254 - acc: 0.9517\n",
      "Epoch 37/100\n",
      "60000/60000 [==============================] - 4s 66us/sample - loss: 0.1237 - acc: 0.9532\n",
      "Epoch 38/100\n",
      "60000/60000 [==============================] - 4s 64us/sample - loss: 0.1203 - acc: 0.9545\n",
      "Epoch 39/100\n",
      "60000/60000 [==============================] - 5s 91us/sample - loss: 0.1190 - acc: 0.9558\n",
      "Epoch 40/100\n",
      "60000/60000 [==============================] - 5s 78us/sample - loss: 0.1161 - acc: 0.9564\n",
      "Epoch 41/100\n",
      "60000/60000 [==============================] - 5s 79us/sample - loss: 0.1131 - acc: 0.9571\n",
      "Epoch 42/100\n",
      "60000/60000 [==============================] - 5s 79us/sample - loss: 0.1136 - acc: 0.9571\n",
      "Epoch 43/100\n",
      "60000/60000 [==============================] - 5s 80us/sample - loss: 0.1071 - acc: 0.9597\n",
      "Epoch 44/100\n",
      "60000/60000 [==============================] - 5s 80us/sample - loss: 0.1080 - acc: 0.9586\n",
      "Epoch 45/100\n",
      "60000/60000 [==============================] - 5s 80us/sample - loss: 0.1068 - acc: 0.9592\n",
      "Epoch 46/100\n",
      "60000/60000 [==============================] - 5s 80us/sample - loss: 0.1038 - acc: 0.9605\n",
      "Epoch 47/100\n",
      "60000/60000 [==============================] - 5s 81us/sample - loss: 0.1012 - acc: 0.9617\n",
      "Epoch 48/100\n",
      "60000/60000 [==============================] - 6s 95us/sample - loss: 0.1007 - acc: 0.9620\n",
      "Epoch 49/100\n",
      "60000/60000 [==============================] - 5s 82us/sample - loss: 0.1007 - acc: 0.9618\n",
      "Epoch 50/100\n",
      "60000/60000 [==============================] - 5s 82us/sample - loss: 0.0955 - acc: 0.9636\n",
      "Epoch 51/100\n",
      "60000/60000 [==============================] - 5s 82us/sample - loss: 0.0967 - acc: 0.9634\n",
      "Epoch 52/100\n",
      "60000/60000 [==============================] - 5s 82us/sample - loss: 0.0951 - acc: 0.9637\n",
      "Epoch 53/100\n",
      "60000/60000 [==============================] - 6s 100us/sample - loss: 0.0917 - acc: 0.9657\n",
      "Epoch 54/100\n",
      "60000/60000 [==============================] - 6s 94us/sample - loss: 0.0915 - acc: 0.9657\n",
      "Epoch 55/100\n",
      "60000/60000 [==============================] - 6s 94us/sample - loss: 0.0902 - acc: 0.9654\n",
      "Epoch 56/100\n",
      "60000/60000 [==============================] - 5s 85us/sample - loss: 0.0882 - acc: 0.9680\n",
      "Epoch 57/100\n",
      "60000/60000 [==============================] - 5s 86us/sample - loss: 0.0856 - acc: 0.9675\n",
      "Epoch 58/100\n",
      "60000/60000 [==============================] - 5s 86us/sample - loss: 0.0861 - acc: 0.9674\n",
      "Epoch 59/100\n",
      "60000/60000 [==============================] - 5s 90us/sample - loss: 0.0842 - acc: 0.9679\n",
      "Epoch 60/100\n",
      "60000/60000 [==============================] - 6s 92us/sample - loss: 0.0816 - acc: 0.9693\n",
      "Epoch 61/100\n",
      "60000/60000 [==============================] - 5s 83us/sample - loss: 0.0834 - acc: 0.9683\n",
      "Epoch 62/100\n",
      "60000/60000 [==============================] - 5s 84us/sample - loss: 0.0826 - acc: 0.9688\n",
      "Epoch 63/100\n",
      "60000/60000 [==============================] - 6s 94us/sample - loss: 0.0791 - acc: 0.9701\n",
      "Epoch 64/100\n",
      "60000/60000 [==============================] - 6s 99us/sample - loss: 0.0772 - acc: 0.9711\n",
      "Epoch 65/100\n",
      "60000/60000 [==============================] - 5s 84us/sample - loss: 0.0761 - acc: 0.9710\n",
      "Epoch 66/100\n",
      "60000/60000 [==============================] - 5s 83us/sample - loss: 0.0754 - acc: 0.9718\n",
      "Epoch 67/100\n",
      "60000/60000 [==============================] - 5s 83us/sample - loss: 0.0772 - acc: 0.9706\n",
      "Epoch 68/100\n",
      "60000/60000 [==============================] - 5s 84us/sample - loss: 0.0733 - acc: 0.9723\n",
      "Epoch 69/100\n",
      "60000/60000 [==============================] - 5s 84us/sample - loss: 0.0749 - acc: 0.9721\n",
      "Epoch 70/100\n",
      "60000/60000 [==============================] - 5s 84us/sample - loss: 0.0723 - acc: 0.9726\n",
      "Epoch 71/100\n",
      "60000/60000 [==============================] - 6s 98us/sample - loss: 0.0722 - acc: 0.9734\n",
      "Epoch 72/100\n",
      "60000/60000 [==============================] - 5s 83us/sample - loss: 0.0708 - acc: 0.9737\n",
      "Epoch 73/100\n",
      "60000/60000 [==============================] - 5s 85us/sample - loss: 0.0702 - acc: 0.9735\n",
      "Epoch 74/100\n",
      "60000/60000 [==============================] - 5s 83us/sample - loss: 0.0694 - acc: 0.9742\n",
      "Epoch 75/100\n",
      "60000/60000 [==============================] - 5s 83us/sample - loss: 0.0689 - acc: 0.9742\n",
      "Epoch 76/100\n",
      "60000/60000 [==============================] - 5s 82us/sample - loss: 0.0692 - acc: 0.9742\n",
      "Epoch 77/100\n",
      "60000/60000 [==============================] - 5s 83us/sample - loss: 0.0661 - acc: 0.9753\n",
      "Epoch 78/100\n",
      "60000/60000 [==============================] - 5s 84us/sample - loss: 0.0650 - acc: 0.9753\n",
      "Epoch 79/100\n"
     ]
    },
    {
     "name": "stdout",
     "output_type": "stream",
     "text": [
      "60000/60000 [==============================] - 5s 76us/sample - loss: 0.0644 - acc: 0.9764\n",
      "Epoch 80/100\n",
      "60000/60000 [==============================] - 5s 77us/sample - loss: 0.0663 - acc: 0.9752\n",
      "Epoch 81/100\n",
      "60000/60000 [==============================] - 5s 79us/sample - loss: 0.0623 - acc: 0.9764\n",
      "Epoch 82/100\n",
      "60000/60000 [==============================] - 5s 78us/sample - loss: 0.0612 - acc: 0.9772\n",
      "Epoch 83/100\n",
      "60000/60000 [==============================] - 6s 94us/sample - loss: 0.0595 - acc: 0.9783\n",
      "Epoch 84/100\n",
      "60000/60000 [==============================] - 5s 81us/sample - loss: 0.0629 - acc: 0.9763\n",
      "Epoch 85/100\n",
      "60000/60000 [==============================] - 5s 81us/sample - loss: 0.0604 - acc: 0.9776\n",
      "Epoch 86/100\n",
      "60000/60000 [==============================] - 5s 84us/sample - loss: 0.0611 - acc: 0.9772\n",
      "Epoch 87/100\n",
      "60000/60000 [==============================] - 5s 84us/sample - loss: 0.0575 - acc: 0.9789\n",
      "Epoch 88/100\n",
      "60000/60000 [==============================] - 5s 88us/sample - loss: 0.0577 - acc: 0.9788\n",
      "Epoch 89/100\n",
      "60000/60000 [==============================] - 6s 96us/sample - loss: 0.0583 - acc: 0.9782\n",
      "Epoch 90/100\n",
      "60000/60000 [==============================] - 5s 86us/sample - loss: 0.0552 - acc: 0.9797\n",
      "Epoch 91/100\n",
      "60000/60000 [==============================] - 5s 85us/sample - loss: 0.0589 - acc: 0.9780\n",
      "Epoch 92/100\n",
      "60000/60000 [==============================] - 5s 83us/sample - loss: 0.0545 - acc: 0.9799\n",
      "Epoch 93/100\n",
      "60000/60000 [==============================] - 5s 83us/sample - loss: 0.0560 - acc: 0.9787\n",
      "Epoch 94/100\n",
      "60000/60000 [==============================] - 5s 83us/sample - loss: 0.0527 - acc: 0.9803\n",
      "Epoch 95/100\n",
      "60000/60000 [==============================] - 6s 100us/sample - loss: 0.0557 - acc: 0.9790\n",
      "Epoch 96/100\n",
      "60000/60000 [==============================] - 5s 85us/sample - loss: 0.0558 - acc: 0.9794\n",
      "Epoch 97/100\n",
      "60000/60000 [==============================] - 5s 83us/sample - loss: 0.0514 - acc: 0.9810\n",
      "Epoch 98/100\n",
      "60000/60000 [==============================] - 5s 83us/sample - loss: 0.0539 - acc: 0.98050s - loss: 0.0535 - acc: \n",
      "Epoch 99/100\n",
      "60000/60000 [==============================] - 5s 84us/sample - loss: 0.0519 - acc: 0.9810\n",
      "Epoch 100/100\n",
      "60000/60000 [==============================] - 5s 88us/sample - loss: 0.0540 - acc: 0.9796\n"
     ]
    },
    {
     "data": {
      "text/plain": [
       "<tensorflow.python.keras.callbacks.History at 0x7f68157ab5c0>"
      ]
     },
     "execution_count": 10,
     "metadata": {},
     "output_type": "execute_result"
    }
   ],
   "source": [
    "model.fit(train_images, train_labels, epochs=100)"
   ]
  },
  {
   "cell_type": "code",
   "execution_count": 11,
   "metadata": {
    "colab": {
     "base_uri": "https://localhost:8080/",
     "height": 214
    },
    "colab_type": "code",
    "id": "Ch9iHP5yqbo5",
    "outputId": "c2942d8d-5f28-4b92-d758-f430541f5f28"
   },
   "outputs": [
    {
     "name": "stdout",
     "output_type": "stream",
     "text": [
      "10000/10000 [==============================] - 0s 41us/sample - loss: 0.8027 - acc: 0.8804\n",
      "Test accuracy: 0.8804\n"
     ]
    }
   ],
   "source": [
    "# comparing the accuracy with test dataset \n",
    "\n",
    "test_loss, test_acc = model.evaluate(test_images, test_labels)\n",
    "\n",
    "print('Test accuracy:', test_acc)"
   ]
  }
 ],
 "metadata": {
  "colab": {
   "name": "Fashion MNIST.ipynb",
   "provenance": [],
   "version": "0.3.2"
  },
  "kernelspec": {
   "display_name": "HeartDisease",
   "language": "python",
   "name": "heartdisease"
  },
  "language_info": {
   "codemirror_mode": {
    "name": "ipython",
    "version": 3
   },
   "file_extension": ".py",
   "mimetype": "text/x-python",
   "name": "python",
   "nbconvert_exporter": "python",
   "pygments_lexer": "ipython3",
   "version": "3.7.1"
  }
 },
 "nbformat": 4,
 "nbformat_minor": 1
}
